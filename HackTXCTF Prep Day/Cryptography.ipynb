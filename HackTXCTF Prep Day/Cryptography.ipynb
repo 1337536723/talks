{
 "cells": [
  {
   "cell_type": "markdown",
   "metadata": {},
   "source": [
    "# Cryptography CTF Basics\n",
    "by Daniel Mancia"
   ]
  },
  {
   "cell_type": "code",
   "execution_count": 1,
   "metadata": {},
   "outputs": [
    {
     "name": "stdout",
     "output_type": "stream",
     "text": [
      "Requirement already satisfied: gmpy2 in ./.local/lib/python3.7/site-packages (2.0.8)\n",
      "Requirement already satisfied: pycryptodome in ./.pyenv/versions/3.7.3/lib/python3.7/site-packages (3.9.0)\n"
     ]
    }
   ],
   "source": [
    "# Useful python packages\n",
    "! pip install --user gmpy2\n",
    "! pip install --user pycryptodome\n",
    "\n",
    "# I also highly recommend downloading SAGE (http://www.sagemath.org)"
   ]
  },
  {
   "cell_type": "markdown",
   "metadata": {},
   "source": [
    "## Base Representation of Numbers"
   ]
  },
  {
   "cell_type": "code",
   "execution_count": 2,
   "metadata": {},
   "outputs": [
    {
     "name": "stdout",
     "output_type": "stream",
     "text": [
      "0b10101101100111\n",
      "0o25547\n",
      "0x2b67\n",
      "8337503854730415241050377135811259267835\n"
     ]
    }
   ],
   "source": [
    "n = 11111\n",
    "print(bin(n)) # Base 2  (binary)\n",
    "print(oct(n)) # Base 8  (octal)\n",
    "print(hex(n)) # Base 16 (hex)\n",
    "\n",
    "n = 'ABCDEFGHIJKLMNOPQRSTUVWXYZ'\n",
    "print(int(n, 36))\n"
   ]
  },
  {
   "cell_type": "markdown",
   "metadata": {},
   "source": [
    "## Data Representation"
   ]
  },
  {
   "cell_type": "markdown",
   "metadata": {},
   "source": [
    "Data can be represented in many ways. The most common way is through bytes and hexadecimal.\n",
    "\n",
    "Releveant docs:  \n",
    "https://docs.python.org/3/library/stdtypes.html#bytes  \n",
    "https://docs.python.org/3/library/stdtypes.html#str.encode  \n",
    "https://docs.python.org/3/library/stdtypes.html#bytes.decode"
   ]
  },
  {
   "cell_type": "code",
   "execution_count": 12,
   "metadata": {},
   "outputs": [
    {
     "name": "stdout",
     "output_type": "stream",
     "text": [
      "OK Boomer!\n",
      "b'OK Boomer!'\n",
      "b'yeet'\n",
      "yeet\n",
      "b'bytes'\n"
     ]
    }
   ],
   "source": [
    "s = 'OK Boomer!'\n",
    "print(s)\n",
    "\n",
    "# Use encode to get the byte representation of a string\n",
    "s_bytes = s.encode()\n",
    "print(s_bytes)\n",
    "\n",
    "# You could also just add b in front of the string (only works with ascii literals)\n",
    "t_bytes = b'yeet'\n",
    "print(t_bytes)\n",
    "\n",
    "# Decode it back to a string with .decode()\n",
    "print(t_bytes.decode())\n",
    "\n",
    "# bytes to string\n",
    "a = [0x62, 0x79, 0x74, 0x65, 0x73]\n",
    "print(bytes(a))"
   ]
  },
  {
   "cell_type": "code",
   "execution_count": 23,
   "metadata": {},
   "outputs": [
    {
     "name": "stdout",
     "output_type": "stream",
     "text": [
      "🤯\n",
      "b'\\xf0\\x9f\\xa4\\xaf'\n",
      "b'\\xf0\\x9f\\xa4\\xae'\n",
      "🤮\n"
     ]
    }
   ],
   "source": [
    "# Python3 strings support unicode characters!\n",
    "# https://docs.python.org/3/howto/unicode.html\n",
    "\n",
    "boom = '🤯'\n",
    "print(boom)\n",
    "print(boom.encode())\n",
    "\n",
    "test = b'\\xf0\\x9f\\xa4\\xae'\n",
    "print(test)\n",
    "print(test.decode())"
   ]
  },
  {
   "cell_type": "code",
   "execution_count": 13,
   "metadata": {},
   "outputs": [
    {
     "name": "stdout",
     "output_type": "stream",
     "text": [
      "b'OK Boomer!'\n",
      "4f 4b 20 42 6f 6f 6d 65 72 21 \n",
      "4f4b20426f6f6d657221\n",
      "b'OK Boomer!'\n",
      "b'OK Boomer!'\n"
     ]
    }
   ],
   "source": [
    "# Manually get hex representation\n",
    "print(s_bytes)\n",
    "s_hex = ''\n",
    "for byte in s_bytes:\n",
    "    s_hex += str(hex(byte)[2:]) + ' '\n",
    "print(s_hex)\n",
    "\n",
    "# Or just do this\n",
    "print(s_bytes.hex())\n",
    "\n",
    "# Inverse operation is fromhex\n",
    "print(bytes.fromhex(s_bytes.hex()))\n",
    "print(bytes.fromhex(s_hex))"
   ]
  },
  {
   "cell_type": "markdown",
   "metadata": {},
   "source": [
    "## Base64 Encoding"
   ]
  },
  {
   "cell_type": "markdown",
   "metadata": {},
   "source": [
    "A common encoding scheme used in CTFs is Base64 encoding. \n",
    "\n",
    "From wikipedia: \"Base64 is a group of binary-to-text encoding schemes that represent binary data in an ASCII string format by translating it into a radix-64 representation.\""
   ]
  },
  {
   "cell_type": "code",
   "execution_count": 16,
   "metadata": {},
   "outputs": [
    {
     "name": "stdout",
     "output_type": "stream",
     "text": [
      "b'OK Boomer!'\n",
      "T0sgQm9vbWVyIQ==\n",
      "\n",
      "b'OK Boomer!'\n"
     ]
    }
   ],
   "source": [
    "import base64\n",
    "\n",
    "print(s_bytes)\n",
    "encoded = base64.b64encode(s_bytes)\n",
    "print(encoded.decode() + '\\n')\n",
    "\n",
    "decoded = base64.b64decode(encoded)\n",
    "print(decoded)"
   ]
  },
  {
   "cell_type": "markdown",
   "metadata": {},
   "source": [
    "## Single Byte Xor\n",
    "\n",
    "Xor is associative: $(a \\oplus b) \\oplus c = a \\oplus (b \\oplus c)$  \n",
    "More importantly $a \\oplus a = 0$  \n",
    "\n",
    "Therefore if we know that every single byte of the ciphertext was xored with a single character we can use xor properties:\n",
    "$plaintext_i \\oplus key = ciphertext_i \\iff plaintext_i \\oplus key \\oplus key = ciphertext_i \\oplus key \\iff plaintext_i = ciphertext_i \\oplus key$\n",
    "\n",
    "This means we can brute force all 255 characters to find the key"
   ]
  },
  {
   "cell_type": "code",
   "execution_count": 26,
   "metadata": {},
   "outputs": [
    {
     "name": "stdout",
     "output_type": "stream",
     "text": [
      "\u001c",
      "\u001d",
      "\u000f\u000e\u0012\u0002\f",
      "\u000f\u000e\u0014\n",
      "[b'\\x1c\\x1d\\x0f\\x05\\x08\\x0e\\x12\\x0f\\x08\\x02\\x0c\\x0f\\x05\\x08\\x0e\\x14', b'\\x1d\\x1c\\x0e\\x04\\t\\x0f\\x13\\x0e\\t\\x03\\r\\x0e\\x04\\t\\x0f\\x15', b'\\x1e\\x1f\\r\\x07\\n\\x0c\\x10\\r\\n\\x00\\x0e\\r\\x07\\n\\x0c\\x16', b'\\x1f\\x1e\\x0c\\x06\\x0b\\r\\x11\\x0c\\x0b\\x01\\x0f\\x0c\\x06\\x0b\\r\\x17', b'\\x18\\x19\\x0b\\x01\\x0c\\n\\x16\\x0b\\x0c\\x06\\x08\\x0b\\x01\\x0c\\n\\x10', b'\\x19\\x18\\n\\x00\\r\\x0b\\x17\\n\\r\\x07\\t\\n\\x00\\r\\x0b\\x11', b'\\x1a\\x1b\\t\\x03\\x0e\\x08\\x14\\t\\x0e\\x04\\n\\t\\x03\\x0e\\x08\\x12', b'\\x1b\\x1a\\x08\\x02\\x0f\\t\\x15\\x08\\x0f\\x05\\x0b\\x08\\x02\\x0f\\t\\x13', b'\\x14\\x15\\x07\\r\\x00\\x06\\x1a\\x07\\x00\\n\\x04\\x07\\r\\x00\\x06\\x1c', b'\\x15\\x14\\x06\\x0c\\x01\\x07\\x1b\\x06\\x01\\x0b\\x05\\x06\\x0c\\x01\\x07\\x1d', b'\\x16\\x17\\x05\\x0f\\x02\\x04\\x18\\x05\\x02\\x08\\x06\\x05\\x0f\\x02\\x04\\x1e', b'\\x17\\x16\\x04\\x0e\\x03\\x05\\x19\\x04\\x03\\t\\x07\\x04\\x0e\\x03\\x05\\x1f', b'\\x10\\x11\\x03\\t\\x04\\x02\\x1e\\x03\\x04\\x0e\\x00\\x03\\t\\x04\\x02\\x18', b'\\x11\\x10\\x02\\x08\\x05\\x03\\x1f\\x02\\x05\\x0f\\x01\\x02\\x08\\x05\\x03\\x19', b'\\x12\\x13\\x01\\x0b\\x06\\x00\\x1c\\x01\\x06\\x0c\\x02\\x01\\x0b\\x06\\x00\\x1a', b'\\x13\\x12\\x00\\n\\x07\\x01\\x1d\\x00\\x07\\r\\x03\\x00\\n\\x07\\x01\\x1b', b'\\x0c\\r\\x1f\\x15\\x18\\x1e\\x02\\x1f\\x18\\x12\\x1c\\x1f\\x15\\x18\\x1e\\x04', b'\\r\\x0c\\x1e\\x14\\x19\\x1f\\x03\\x1e\\x19\\x13\\x1d\\x1e\\x14\\x19\\x1f\\x05', b'\\x0e\\x0f\\x1d\\x17\\x1a\\x1c\\x00\\x1d\\x1a\\x10\\x1e\\x1d\\x17\\x1a\\x1c\\x06', b'\\x0f\\x0e\\x1c\\x16\\x1b\\x1d\\x01\\x1c\\x1b\\x11\\x1f\\x1c\\x16\\x1b\\x1d\\x07', b'\\x08\\t\\x1b\\x11\\x1c\\x1a\\x06\\x1b\\x1c\\x16\\x18\\x1b\\x11\\x1c\\x1a\\x00', b'\\t\\x08\\x1a\\x10\\x1d\\x1b\\x07\\x1a\\x1d\\x17\\x19\\x1a\\x10\\x1d\\x1b\\x01', b'\\n\\x0b\\x19\\x13\\x1e\\x18\\x04\\x19\\x1e\\x14\\x1a\\x19\\x13\\x1e\\x18\\x02', b'\\x0b\\n\\x18\\x12\\x1f\\x19\\x05\\x18\\x1f\\x15\\x1b\\x18\\x12\\x1f\\x19\\x03', b'\\x04\\x05\\x17\\x1d\\x10\\x16\\n\\x17\\x10\\x1a\\x14\\x17\\x1d\\x10\\x16\\x0c', b'\\x05\\x04\\x16\\x1c\\x11\\x17\\x0b\\x16\\x11\\x1b\\x15\\x16\\x1c\\x11\\x17\\r', b'\\x06\\x07\\x15\\x1f\\x12\\x14\\x08\\x15\\x12\\x18\\x16\\x15\\x1f\\x12\\x14\\x0e', b'\\x07\\x06\\x14\\x1e\\x13\\x15\\t\\x14\\x13\\x19\\x17\\x14\\x1e\\x13\\x15\\x0f', b'\\x00\\x01\\x13\\x19\\x14\\x12\\x0e\\x13\\x14\\x1e\\x10\\x13\\x19\\x14\\x12\\x08', b'\\x01\\x00\\x12\\x18\\x15\\x13\\x0f\\x12\\x15\\x1f\\x11\\x12\\x18\\x15\\x13\\t', b'\\x02\\x03\\x11\\x1b\\x16\\x10\\x0c\\x11\\x16\\x1c\\x12\\x11\\x1b\\x16\\x10\\n', b'\\x03\\x02\\x10\\x1a\\x17\\x11\\r\\x10\\x17\\x1d\\x13\\x10\\x1a\\x17\\x11\\x0b', b'<=/%(.2/(\",/%(.4', b'=<.$)/3.)#-.$)/5', b\">?-'*,0-* .-'*,6\", b'?>,&+-1,+!/,&+-7', b'89+!,*6+,&(+!,*0', b\"98* -+7*-')* -+1\", b':;)#.(4).$*)#.(2', b';:(\"/)5(/%+(\"/)3', b\"45'- &:' *$'- &<\", b\"54&,!';&!+%&,!'=\", b'67%/\"$8%\"(&%/\"$>', b\"76$.#%9$#)'$.#%?\", b'01#)$\">#$. #)$\"8', b'10\"(%#?\"%/!\"(%#9', b'23!+& <!&,\"!+& :', b\"32 *'!= '-# *'!;\", b',-?58>\"?82<?58>$', b'-,>49?#>93=>49?%', b'./=7:< =:0>=7:<&', b\"/.<6;=!<;1?<6;='\", b'();1<:&;<68;1<: ', b\")(:0=;':=79:0=;!\", b'*+93>8$9>4:93>8\"', b'+*82?9%8?5;82?9#', b'$%7=06*70:47=06,', b'%$6<17+61;56<17-', b\"&'5?24(52865?24.\", b\"'&4>35)43974>35/\", b' !3942.34>03942(', b'! 2853/25?12853)', b'\"#1;60,16<21;60*', b'#\"0:71-07=30:71+', b'\\\\]OEHNROHBLOEHNT', b']\\\\NDIOSNICMNDIOU', b'^_MGJLPMJ@NMGJLV', b'_^LFKMQLKAOLFKMW', b'XYKALJVKLFHKALJP', b'YXJ@MKWJMGIJ@MKQ', b'Z[ICNHTINDJICNHR', b'[ZHBOIUHOEKHBOIS', b'TUGM@FZG@JDGM@F\\\\', b'UTFLAG[FAKEFLAG]', b'VWEOBDXEBHFEOBD^', b'WVDNCEYDCIGDNCE_', b'PQCIDB^CDN@CIDBX', b'QPBHEC_BEOABHECY', b'RSAKF@\\\\AFLBAKF@Z', b'SR@JGA]@GMC@JGA[', b'LM_UX^B_XR\\\\_UX^D', b'ML^TY_C^YS]^TY_E', b'NO]WZ\\\\@]ZP^]WZ\\\\F', b'ON\\\\V[]A\\\\[Q_\\\\V[]G', b'HI[Q\\\\ZF[\\\\VX[Q\\\\Z@', b'IHZP][GZ]WYZP][A', b'JKYS^XDY^TZYS^XB', b'KJXR_YEX_U[XR_YC', b'DEW]PVJWPZTW]PVL', b'EDV\\\\QWKVQ[UV\\\\QWM', b'FGU_RTHURXVU_RTN', b'GFT^SUITSYWT^SUO', b'@ASYTRNST^PSYTRH', b'A@RXUSORU_QRXUSI', b'BCQ[VPLQV\\\\RQ[VPJ', b'CBPZWQMPW]SPZWQK', b'|}oehnrohbloehnt', b'}|ndiosnicmndiou', b'~\\x7fmgjlpmj`nmgjlv', b'\\x7f~lfkmqlkaolfkmw', b'xykaljvklfhkaljp', b'yxj`mkwjmgij`mkq', b'z{icnhtindjicnhr', b'{zhboiuhoekhbois', b'tugm`fzg`jdgm`f|', b'utflag{f...
